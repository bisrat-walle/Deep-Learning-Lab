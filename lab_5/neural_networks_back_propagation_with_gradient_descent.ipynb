{
 "cells": [
  {
   "cell_type": "code",
   "execution_count": 1,
   "id": "bd5dda27",
   "metadata": {},
   "outputs": [],
   "source": [
    "import torch"
   ]
  },
  {
   "cell_type": "markdown",
   "id": "3437234a",
   "metadata": {},
   "source": [
    "## Activation Functions: Sigmoid, ReLU"
   ]
  },
  {
   "cell_type": "code",
   "execution_count": 2,
   "id": "1bff1401",
   "metadata": {},
   "outputs": [],
   "source": [
    "class Activation_Sigmoid:\n",
    "    def forward(self, inputs):\n",
    "        self.inputs = inputs\n",
    "        self.output = 1 / (1 + torch.exp(-inputs))\n",
    "\n",
    "    def backward(self, dvalues):\n",
    "        sigmoid_derivative = self.output * (1 - self.output)\n",
    "        self.dinputs = dvalues * sigmoid_derivative\n",
    "\n",
    "class Activation_ReLU:\n",
    "    def forward(self, inputs):\n",
    "        self.inputs = inputs\n",
    "        self.output = torch.maximum(torch.tensor(0), inputs)\n",
    "\n",
    "    def backward(self, dvalues):\n",
    "        self.dinputs = dvalues.clone()\n",
    "        self.dinputs[self.inputs <= 0] = 0"
   ]
  },
  {
   "cell_type": "markdown",
   "id": "ee5d04a4",
   "metadata": {},
   "source": [
    "## Dense Layer"
   ]
  },
  {
   "cell_type": "code",
   "execution_count": 3,
   "id": "2e9159f1",
   "metadata": {},
   "outputs": [],
   "source": [
    "class DenseLayer:\n",
    "    def __init__(self, n_inputs, n_neurons):\n",
    "        self.weights = 0.01 * torch.rand(n_inputs, n_neurons)\n",
    "        self.biases = torch.zeros((1, n_neurons))\n",
    "\n",
    "    def forward(self, inputs):\n",
    "        self.inputs = inputs\n",
    "        self.output = torch.matmul(inputs, self.weights) + self.biases\n",
    "\n",
    "    def backward(self, dvalues):\n",
    "        self.dweights = torch.matmul(self.inputs.T, dvalues)\n",
    "        self.dbiases = torch.sum(dvalues, axis=0, keepdims=True)\n",
    "        self.dinputs = torch.matmul(dvalues, self.weights.T)"
   ]
  },
  {
   "cell_type": "markdown",
   "id": "6cd9aa9d",
   "metadata": {},
   "source": [
    "## Loss: Mean Squared Error"
   ]
  },
  {
   "cell_type": "code",
   "execution_count": 4,
   "id": "fff2eaeb",
   "metadata": {},
   "outputs": [],
   "source": [
    "class Loss_MSE:\n",
    "    def forward(self, y_pred, y_true):\n",
    "        return torch.mean((y_pred - y_true) ** 2)\n",
    "\n",
    "    def backward(self, dvalues, y_true):\n",
    "        samples = len(dvalues)\n",
    "        outputs = len(dvalues[0])\n",
    "        self.dinputs = 2 * (dvalues - y_true) / outputs\n",
    "        self.dinputs = self.dinputs / samples\n"
   ]
  },
  {
   "cell_type": "markdown",
   "id": "cd5e1529",
   "metadata": {},
   "source": [
    "# Neural Network Architecture\n",
    "\n",
    "## Input Layer\n",
    "- Features: 2\n",
    "\n",
    "## Hidden Layer\n",
    "- Neurons: 2\n",
    "- Activation Function: ReLU\n",
    "\n",
    "## Output Layer\n",
    "- Neurons: 2\n",
    "- Activation Function: Sigmoid\n",
    "\n",
    "## Loss function\n",
    "- Loss Function: Mean Squared Error (MSE)\n"
   ]
  },
  {
   "cell_type": "markdown",
   "id": "49d4ef34",
   "metadata": {},
   "source": [
    "## Sample Usage"
   ]
  },
  {
   "cell_type": "code",
   "execution_count": 5,
   "id": "f003b3c3",
   "metadata": {},
   "outputs": [
    {
     "name": "stdout",
     "output_type": "stream",
     "text": [
      "Initial Loss: 0.2500019073486328\n",
      "Epoch 0, Loss: 0.2500019073486328\n",
      "Epoch 100, Loss: 0.24955417215824127\n",
      "Epoch 200, Loss: 0.22268623113632202\n",
      "Epoch 300, Loss: 0.10445977747440338\n",
      "Epoch 400, Loss: 0.06082547456026077\n",
      "Epoch 500, Loss: 0.03991616144776344\n",
      "Epoch 600, Loss: 0.028526008129119873\n",
      "Epoch 700, Loss: 0.021698269993066788\n",
      "Epoch 800, Loss: 0.017273079603910446\n",
      "Epoch 900, Loss: 0.014223725534975529\n"
     ]
    }
   ],
   "source": [
    "learning_rate = 0.1\n",
    "epochs = 1000  # Number of iterations for training\n",
    "\n",
    "# Instantiate the layers, activations, and loss function\n",
    "layer1 = DenseLayer(2, 2)  # 2 inputs, 2 neurons in the hidden layer\n",
    "activation1 = Activation_ReLU()\n",
    "\n",
    "layer2 = DenseLayer(2, 2)  # 2 neurons from the hidden layer to 2 output neurons\n",
    "activation2 = Activation_Sigmoid()\n",
    "\n",
    "loss_function = Loss_MSE()\n",
    "\n",
    "X = torch.tensor([[1.0, 2.0], [0.5, -1.0]])  # Input data\n",
    "Y = torch.tensor([[1.0, 0.0], [0.0, 1.0]])  # True labels\n",
    "\n",
    "# Initial forward pass for initial loss\n",
    "layer1.forward(X)\n",
    "activation1.forward(layer1.output)\n",
    "\n",
    "layer2.forward(activation1.output)\n",
    "activation2.forward(layer2.output)\n",
    "\n",
    "# Initial loss calculation\n",
    "initial_loss = loss_function.forward(activation2.output, Y)\n",
    "print(f'Initial Loss: {initial_loss}')\n",
    "\n",
    "# Training loop\n",
    "for epoch in range(epochs):\n",
    "    # Forward pass\n",
    "    layer1.forward(X)\n",
    "    activation1.forward(layer1.output)\n",
    "\n",
    "    layer2.forward(activation1.output)\n",
    "    activation2.forward(layer2.output)\n",
    "\n",
    "    # Loss calculation\n",
    "    loss = loss_function.forward(activation2.output, Y)\n",
    "\n",
    "    # Backward pass\n",
    "    loss_function.backward(activation2.output, Y)\n",
    "    activation2.backward(loss_function.dinputs)\n",
    "\n",
    "    layer2.backward(activation2.dinputs)\n",
    "    activation1.backward(layer2.dinputs)\n",
    "\n",
    "    layer1.backward(activation1.dinputs)\n",
    "\n",
    "    # Update weights and biases\n",
    "    layer1.weights -= learning_rate * layer1.dweights\n",
    "    layer1.biases -= learning_rate * layer1.dbiases\n",
    "\n",
    "    layer2.weights -= learning_rate * layer2.dweights\n",
    "    layer2.biases -= learning_rate * layer2.dbiases\n",
    "\n",
    "    # Print loss every 100 epochs\n",
    "    if epoch % 100 == 0:\n",
    "        print(f'Epoch {epoch}, Loss: {loss}')\n"
   ]
  }
 ],
 "metadata": {
  "kernelspec": {
   "display_name": "Python 3 (ipykernel)",
   "language": "python",
   "name": "python3"
  },
  "language_info": {
   "codemirror_mode": {
    "name": "ipython",
    "version": 3
   },
   "file_extension": ".py",
   "mimetype": "text/x-python",
   "name": "python",
   "nbconvert_exporter": "python",
   "pygments_lexer": "ipython3",
   "version": "3.11.2"
  }
 },
 "nbformat": 4,
 "nbformat_minor": 5
}

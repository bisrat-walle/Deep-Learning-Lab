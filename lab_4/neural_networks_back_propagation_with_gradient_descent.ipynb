{
 "cells": [
  {
   "cell_type": "code",
   "execution_count": 1,
   "id": "bd5dda27",
   "metadata": {},
   "outputs": [],
   "source": [
    "import torch"
   ]
  },
  {
   "cell_type": "markdown",
   "id": "3437234a",
   "metadata": {},
   "source": [
    "## Activation Functions: Sigmoid, Linear"
   ]
  },
  {
   "cell_type": "code",
   "execution_count": 2,
   "id": "1bff1401",
   "metadata": {},
   "outputs": [],
   "source": [
    "class Activation_Sigmoid:\n",
    "    def forward(self, inputs):\n",
    "        self.output = 1 / (1 + torch.exp(-inputs))\n",
    "\n",
    "class Activation_Linear:\n",
    "    def forward(self, inputs):\n",
    "        self.output = inputs"
   ]
  },
  {
   "cell_type": "markdown",
   "id": "ee5d04a4",
   "metadata": {},
   "source": [
    "## Dense Layer"
   ]
  },
  {
   "cell_type": "code",
   "execution_count": 3,
   "id": "2e9159f1",
   "metadata": {},
   "outputs": [],
   "source": [
    "class DenseLayer:\n",
    "    def __init__(self, n_features, n_neurons, activation_function):\n",
    "        self.weights = 0.01 * torch.rand((n_features, n_neurons))\n",
    "        self.biases = torch.zeros((1, n_neurons))\n",
    "        self.output = None\n",
    "        self.activation_function = activation_function\n",
    "\n",
    "    def forward(self, inputs):\n",
    "        weighted_sum = torch.matmul(inputs, self.weights) + self.biases\n",
    "        self.activation_function.forward(weighted_sum)\n",
    "        self.output = self.activation_function.output\n",
    "\n",
    "    def get_output(self):\n",
    "        return self.output"
   ]
  },
  {
   "cell_type": "markdown",
   "id": "6cd9aa9d",
   "metadata": {},
   "source": [
    "## Loss: Mean Squared Error"
   ]
  },
  {
   "cell_type": "code",
   "execution_count": 4,
   "id": "fff2eaeb",
   "metadata": {},
   "outputs": [],
   "source": [
    "class Loss_MSE:\n",
    "    def forward(self, y_pred, y_true):\n",
    "        self.output = torch.mean((y_pred - y_true)**2)\n",
    "        return self.output"
   ]
  },
  {
   "cell_type": "markdown",
   "id": "cd5e1529",
   "metadata": {},
   "source": [
    "# Neural Network Architecture\n",
    "\n",
    "## Input Layer\n",
    "- Features: 2\n",
    "\n",
    "## Hidden Layer\n",
    "- Neurons: 4\n",
    "- Activation Function: Sigmoid\n",
    "\n",
    "## Output Layer\n",
    "- Neurons: 2\n",
    "- Activation Function: Linear\n",
    "\n",
    "## Training Details - Hyperparameters\n",
    "- Loss Function: Mean Squared Error (MSE)\n",
    "- Learning Rate: 0.001\n",
    "- Number of Epochs: 1000\n"
   ]
  },
  {
   "cell_type": "markdown",
   "id": "49d4ef34",
   "metadata": {},
   "source": [
    "## Backward Propagation formula"
   ]
  },
  {
   "cell_type": "code",
   "execution_count": 13,
   "id": "f003b3c3",
   "metadata": {},
   "outputs": [],
   "source": [
    "def back_prop(X, y, hidden_layer, output_layer, activation_hidden, activation_output, loss_function, lr=0.01):\n",
    "    # Calculate loss\n",
    "    loss = loss_function.forward(output_layer.get_output(), y)\n",
    "\n",
    "    # Backward pass for the output layer\n",
    "    back_output = 2 * (output_layer.get_output() - y)  # Derivative of MSE\n",
    "    output_layer.weights -= lr * torch.matmul(hidden_layer.get_output().T, back_output)\n",
    "    output_layer.biases -= lr * torch.sum(back_output, axis=0, keepdim=True)\n",
    "\n",
    "    # Backward pass for the hidden layer\n",
    "    back_hidden = torch.matmul(back_output, output_layer.weights.T)\n",
    "    back_hidden *= (hidden_layer.get_output() * (1 - hidden_layer.get_output()))  # Derivative of Sigmoid\n",
    "    hidden_layer.weights -= lr * torch.matmul(X.T, back_hidden)\n",
    "    hidden_layer.biases -= lr * torch.sum(back_hidden, axis=0, keepdim=True)\n",
    "\n",
    "    return loss"
   ]
  },
  {
   "cell_type": "code",
   "execution_count": 16,
   "id": "dfc16719",
   "metadata": {},
   "outputs": [
    {
     "name": "stdout",
     "output_type": "stream",
     "text": [
      "Initial loss: 0.15341319143772125\n",
      "Initial prediction: tensor([[0.0150, 0.0158]])\n",
      "Epoch 0, Loss: 0.15218563377857208\n",
      "Epoch 100, Loss: 0.06812471151351929\n",
      "Epoch 200, Loss: 0.03046007826924324\n",
      "Epoch 300, Loss: 0.013602484948933125\n",
      "Epoch 400, Loss: 0.006068127229809761\n",
      "Epoch 500, Loss: 0.0027048911433666945\n",
      "Epoch 600, Loss: 0.0012050358345732093\n",
      "Epoch 700, Loss: 0.0005366324330680072\n",
      "Epoch 800, Loss: 0.00023890910961199552\n",
      "Epoch 900, Loss: 0.0001063439340214245\n",
      "Converged at epoch 908\n",
      "Final loss: 9.967528603738174e-05\n",
      "Final prediction: tensor([[0.4466, 0.3399]])\n",
      "Target value: tensor([[0.4579, 0.3484]])\n"
     ]
    }
   ],
   "source": [
    "# Example usage with training loop\n",
    "X = torch.rand((1, 2))  # 1 sample with 2 input features\n",
    "y = torch.rand((1, 2))  # Example target output for regression\n",
    "\n",
    "activation_hidden = Activation_Sigmoid()\n",
    "activation_output = Activation_Linear()  # Linear activation for regression\n",
    "\n",
    "hidden_layer = DenseLayer(n_features=2, n_neurons=4, activation_function=activation_hidden)\n",
    "output_layer = DenseLayer(n_features=4, n_neurons=2, activation_function=activation_output)\n",
    "\n",
    "loss_function = Loss_MSE()\n",
    "\n",
    "learning_rate = 0.001\n",
    "num_epochs = 1000\n",
    "\n",
    "# Forward pass\n",
    "hidden_layer.forward(X)\n",
    "output_layer.forward(hidden_layer.output)\n",
    "y_pred = output_layer.output\n",
    "initial_loss = loss_function.forward(y_pred, y)\n",
    "\n",
    "print(\"Initial loss:\", initial_loss.item())\n",
    "print(\"Initial prediction:\", y_pred)\n",
    "\n",
    "# Training loop\n",
    "for epoch in range(num_epochs):\n",
    "    # Backward pass\n",
    "    loss = back_prop(X, y, hidden_layer, output_layer, activation_hidden, activation_output, loss_function, lr=learning_rate)\n",
    "\n",
    "    # Forward pass\n",
    "    hidden_layer.forward(X)\n",
    "    output_layer.forward(hidden_layer.get_output())\n",
    "    y_pred = output_layer.output\n",
    "    # Calculate error for convergence check\n",
    "    err = loss_function.forward(y_pred, y)\n",
    "\n",
    "    if epoch % 100 == 0:\n",
    "        print(f\"Epoch {epoch}, Loss: {err.item()}\")\n",
    "\n",
    "    # Convergence check\n",
    "    if err <= 0.0001:\n",
    "        print(\"Converged at epoch\", epoch)\n",
    "        break\n",
    "\n",
    "print(\"Final loss:\", err.item())\n",
    "print(\"Final prediction:\", y_pred)\n",
    "print(\"Target value:\", y)\n"
   ]
  }
 ],
 "metadata": {
  "kernelspec": {
   "display_name": "Python 3 (ipykernel)",
   "language": "python",
   "name": "python3"
  },
  "language_info": {
   "codemirror_mode": {
    "name": "ipython",
    "version": 3
   },
   "file_extension": ".py",
   "mimetype": "text/x-python",
   "name": "python",
   "nbconvert_exporter": "python",
   "pygments_lexer": "ipython3",
   "version": "3.11.2"
  }
 },
 "nbformat": 4,
 "nbformat_minor": 5
}
